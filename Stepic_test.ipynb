{
 "cells": [
  {
   "cell_type": "code",
   "execution_count": null,
   "metadata": {
    "collapsed": true
   },
   "outputs": [],
   "source": [
    "a = 'Stasy'"
   ]
  },
  {
   "cell_type": "code",
   "execution_count": null,
   "metadata": {
    "collapsed": false
   },
   "outputs": [],
   "source": [
    "a[::-1].lower()"
   ]
  },
  {
   "cell_type": "code",
   "execution_count": null,
   "metadata": {
    "collapsed": false
   },
   "outputs": [],
   "source": [
    "b = [i for i in range(5)]\n",
    "l=[]\n",
    "for i in range(0,len(b)):\n",
    "    if len(b)==1:\n",
    "        l.append(b[i])\n",
    "    elif i == 0: \n",
    "        l.append(b[1]+b[-1])\n",
    "    elif i == len(b)-1: \n",
    "        l.append(b[-2]+b[0])\n",
    "    else:\n",
    "        l.append(b[i-1]+b[i+1])\n",
    "for j in l:\n",
    "    print j\n"
   ]
  },
  {
   "cell_type": "code",
   "execution_count": null,
   "metadata": {
    "collapsed": false
   },
   "outputs": [],
   "source": [
    "c = [4, 8, 0, 3, 4, 2, 0, 3]"
   ]
  },
  {
   "cell_type": "code",
   "execution_count": null,
   "metadata": {
    "collapsed": false
   },
   "outputs": [],
   "source": [
    "c = [1, 1, 1, 1, 1, 2, 2, 2]\n",
    "list=[]\n",
    "for i in c:\n",
    "    if c.count(i) > 1 and i not in list:\n",
    "        print (i)\n",
    "        list.append(i)"
   ]
  },
  {
   "cell_type": "code",
   "execution_count": null,
   "metadata": {
    "collapsed": false
   },
   "outputs": [],
   "source": [
    "c.remove(0)"
   ]
  },
  {
   "cell_type": "code",
   "execution_count": null,
   "metadata": {
    "collapsed": false
   },
   "outputs": [],
   "source": [
    "c"
   ]
  },
  {
   "cell_type": "code",
   "execution_count": null,
   "metadata": {
    "collapsed": false
   },
   "outputs": [],
   "source": [
    "sum=0\n",
    "kv=0\n",
    "while True:\n",
    "    a=int(input())\n",
    "    sum+=a\n",
    "    kv+=a**2\n",
    "    if sum == 0:\n",
    "        print (kv)\n",
    "        break"
   ]
  },
  {
   "cell_type": "code",
   "execution_count": null,
   "metadata": {
    "collapsed": false
   },
   "outputs": [],
   "source": [
    "b\n"
   ]
  },
  {
   "cell_type": "code",
   "execution_count": null,
   "metadata": {
    "collapsed": false
   },
   "outputs": [],
   "source": [
    "list = [5, 8, 6, 7, 4, 9, 8]\n",
    "x=int(input())\n",
    "k=0\n",
    "for i in range(len(list)):\n",
    "    if x == list[i]:\n",
    "        print i\n",
    "        k+=1\n",
    "if k == 0:\n",
    "     print (\"Отсутствует\")\n",
    "    "
   ]
  },
  {
   "cell_type": "code",
   "execution_count": null,
   "metadata": {
    "collapsed": false
   },
   "outputs": [],
   "source": [
    "a = [[1,2,3,4,5],[16,17,18,19,6],[15, 24, 25, 20, 7],[14, 23, 22, 21, 8],[13, 12, 11, 10, 9]]"
   ]
  },
  {
   "cell_type": "code",
   "execution_count": null,
   "metadata": {
    "collapsed": false
   },
   "outputs": [],
   "source": [
    "b = [[1,2,3,4,5],[6,7,8,9,10],[11,12,13,14,15],[21,22,23,24,25]]"
   ]
  },
  {
   "cell_type": "code",
   "execution_count": null,
   "metadata": {
    "collapsed": false
   },
   "outputs": [],
   "source": [
    "import numpy as np\n",
    "x=np.linalg.solve(b, a)"
   ]
  },
  {
   "cell_type": "code",
   "execution_count": null,
   "metadata": {
    "collapsed": false
   },
   "outputs": [],
   "source": [
    "print np.rot90(b,1)\n",
    "b"
   ]
  },
  {
   "cell_type": "code",
   "execution_count": null,
   "metadata": {
    "collapsed": false
   },
   "outputs": [],
   "source": [
    "import numpy as np\n",
    "n=int(input())\n",
    "a = np.array([[0 for i in range(n)] for j in range(n)])\n",
    "a[0,0]=1\n",
    "i,j,pov,k=0,0,0,2\n",
    "while k<=n**2:\n",
    "    if (j+1)<=(n-1) and a[i,j+1]== 0:\n",
    "        a[i,j+1]=k\n",
    "        j+=1\n",
    "        k+=1\n",
    "    elif (j+1)<=(n-1):\n",
    "        j+=1\n",
    "    elif pov >= 3:\n",
    "        i+=1\n",
    "        a=np.rot90(a,1)\n",
    "        pov=0\n",
    "        j=0\n",
    "    else:\n",
    "        a=np.rot90(a,1)\n",
    "        pov+=1\n",
    "        j=0\n",
    "if n % 2==0: a=np.rot90(a,2)\n",
    "for i in range(n):\n",
    "    for j in range(n):\n",
    "        print (g, end='')\n",
    "    print \"\\n\""
   ]
  },
  {
   "cell_type": "code",
   "execution_count": null,
   "metadata": {
    "collapsed": false
   },
   "outputs": [],
   "source": [
    "list(a)"
   ]
  },
  {
   "cell_type": "code",
   "execution_count": null,
   "metadata": {
    "collapsed": false
   },
   "outputs": [],
   "source": [
    "list=[]\n",
    "import numpy as np\n",
    "while True:\n",
    "    b = input()\n",
    "    if b == \"end\":\n",
    "        break\n",
    "    list += [b.split()]\n",
    "print (list)\n",
    "list=np.array(list)\n",
    "if len(list) ==1:\n",
    "    a=list*4\n",
    "else:\n",
    "    a = np.array([[0 for j in range(len(list[0]))] for i in range(len(list))])\n",
    "    for i in range(len(list)):\n",
    "        for j in range(len(list[0])):\n",
    "            a[i,j]=list[i-1, j]+list[i-len(list)+1, j]+list[i, j-1]+list[i, j-len(list[0])+1]\n",
    "print (a)"
   ]
  },
  {
   "cell_type": "markdown",
   "metadata": {
    "collapsed": true
   },
   "source": [
    "Напишите функцию update_dictionary(d, key, value), которая принимает на вход словарь dd и два числа: keykey и valuevalue.\n",
    "\n",
    "Если ключ key есть в словаре d, то добавьте значение value в список, который хранится по этому ключу. \n",
    "Если ключа key нет в словаре, то нужно добавить значение в список по ключу 2⋅key. Если и ключа 2⋅key нет, то нужно добавить ключ 2⋅key в словарь и сопоставить ему список из переданного элемента [value].\n",
    "\n",
    "Требуется реализовать только эту функцию, кода вне неё не должно быть.\n",
    "Функция не должна вызывать внутри себя функции input иa print.\n",
    "\n",
    "Пример работы функции:\n",
    "\n",
    "d = {}\n",
    "print(update_dictionary(d, 1, -1))  # None\n",
    "print(d)                            # {2: [-1]}\n",
    "update_dictionary(d, 2, -2)\n",
    "print(d)                            # {2: [-1, -2]}\n",
    "update_dictionary(d, 1, -3)\n",
    "print(d)                            # {2: [-1, -2, -3]}"
   ]
  },
  {
   "cell_type": "code",
   "execution_count": 7,
   "metadata": {
    "collapsed": false
   },
   "outputs": [],
   "source": [
    "def update_dictionary(d, key, value):\n",
    "    if key in d:\n",
    "        d[key].append(value)\n",
    "    elif 2*key in d:\n",
    "        d[2*key].append(value)\n",
    "    else:\n",
    "        d[2*key] = [value]\n",
    "        "
   ]
  },
  {
   "cell_type": "markdown",
   "metadata": {
    "collapsed": false
   },
   "source": [
    "Когда Антон прочитал «Войну и мир», ему стало интересно, сколько слов и в каком количестве используется в этой книге.\n",
    "\n",
    "Помогите Антону написать упрощённую версию такой программы, которая сможет подсчитать слова, разделённые пробелом и вывести получившуюся статистику.\n",
    "\n",
    "Программа должна считывать одну строку со стандартного ввода и выводить для каждого уникального слова в этой строке число его повторений (без учёта регистра) в формате \"слово количество\" (см. пример вывода). \n",
    "Порядок вывода слов может быть произвольным, каждое уникальное слово должно выводиться только один раз.\n",
    "\n",
    "Sample Input 1:\n",
    "a aa abC aa ac abc bcd a\n",
    "Sample Output 1:\n",
    "ac 1\n",
    "a 2\n",
    "abc 2\n",
    "bcd 1\n",
    "aa 2\n",
    "\n",
    "Sample Input 2:\n",
    "a A a\n",
    "Sample Output 2:\n",
    "a 3"
   ]
  },
  {
   "cell_type": "code",
   "execution_count": 7,
   "metadata": {
    "collapsed": false
   },
   "outputs": [
    {
     "name": "stdout",
     "output_type": "stream",
     "text": [
      "a aa abC aa ac abc bcd a\n"
     ]
    },
    {
     "ename": "SyntaxError",
     "evalue": "invalid syntax (<string>, line 1)",
     "output_type": "error",
     "traceback": [
      "\u001b[1;36m  File \u001b[1;32m\"<string>\"\u001b[1;36m, line \u001b[1;32m1\u001b[0m\n\u001b[1;33m    a aa abC aa ac abc bcd a\u001b[0m\n\u001b[1;37m       ^\u001b[0m\n\u001b[1;31mSyntaxError\u001b[0m\u001b[1;31m:\u001b[0m invalid syntax\n"
     ]
    }
   ],
   "source": [
    "'''Программа корректно работает только на python 3'''\n",
    "lst = input().lower().split(' ')\n",
    "d={}\n",
    "for i in lst:\n",
    "    d[i] = lst.count(i)\n",
    "for key, value in d.items():\n",
    "    print (key, value)"
   ]
  },
  {
   "cell_type": "markdown",
   "metadata": {
    "collapsed": false
   },
   "source": [
    "Имеется реализованная функция f(x)f(x), принимающая на вход целое число xx, которая вычисляет некоторое целочисленое значение и возвращает его в качестве результата работы.\n",
    "\n",
    "Функция вычисляется достаточно долго, ничего не выводит на экран, не пишет в файлы и зависит только от переданного аргумента xx.\n",
    "\n",
    "Напишите программу, которой на вход в первой строке подаётся число nn — количество значений xx, для которых требуется узнать значение функции f(x)f(x), после чего сами эти nn значений, каждое на отдельной строке. Программа должна после каждого введённого значения аргумента вывести соответствующие значения функции ff на отдельной строке. \n",
    "\n",
    "Для ускорения вычисления необходимо сохранять уже вычисленные значения функции при известных аргументах.\n",
    "\n",
    "Обратите внимание, что в этой задаче установлено достаточно сильное ограничение в две секунды по времени исполнения кода на тесте. \n",
    "\n",
    "Sample Input:\n",
    "5\n",
    "5\n",
    "12\n",
    "9\n",
    "20\n",
    "12\n",
    "Sample Output:\n",
    "11\n",
    "41\n",
    "47\n",
    "61\n",
    "41"
   ]
  },
  {
   "cell_type": "code",
   "execution_count": 11,
   "metadata": {
    "collapsed": true
   },
   "outputs": [],
   "source": [
    "import time\n",
    " \n",
    "class Profiler(object):\n",
    "    def __enter__(self):\n",
    "        self._startTime = time.time()\n",
    "         \n",
    "    def __exit__(self, type, value, traceback):\n",
    "        print \"Elapsed time: {:.3f} sec\".format(time.time() - self._startTime)\n"
   ]
  },
  {
   "cell_type": "code",
   "execution_count": 23,
   "metadata": {
    "collapsed": false
   },
   "outputs": [
    {
     "name": "stdout",
     "output_type": "stream",
     "text": [
      "5\n",
      "4\n",
      "16\n",
      "3\n",
      "9\n",
      "2\n",
      "4\n",
      "1\n",
      "1\n",
      "1\n",
      "1\n",
      "Elapsed time: 4.194 sec\n"
     ]
    }
   ],
   "source": [
    "with Profiler() as p:\n",
    "    d={}\n",
    "    a=[]\n",
    "    k = 0\n",
    "for i in range(int(input())):\n",
    "    a.append(int(input()))\n",
    "    if a[i] in d:\n",
    "        print f(a[i])\n",
    "    else:\n",
    "        d[a[i]] = f(a[i])\n",
    "        print (d[a[i]])"
   ]
  },
  {
   "cell_type": "code",
   "execution_count": 16,
   "metadata": {
    "collapsed": false
   },
   "outputs": [
    {
     "name": "stdout",
     "output_type": "stream",
     "text": [
      "('Corners - ', {'north-east': [4, 4], 'north-west': [4, 2], 'south-west': [1, 2], 'south-east': [1, 4]})\n",
      "6\n",
      "60\n"
     ]
    }
   ],
   "source": [
    "class Building:\n",
    "    \n",
    "    def __init__(self, south, west, width_WE, width_NS, height=10):\n",
    "        self.south = south\n",
    "        self.west = west\n",
    "        self.width_WE = width_WE\n",
    "        self.width_NS = width_NS\n",
    "        self.height = height\n",
    "\n",
    "    def corners(self): \n",
    "        return {\"north-west\": [self.south+self.width_NS, self.west], \"north-east\": [self.south+self.width_NS, self.west+self.width_WE], \"south-west\": [self.south, self.west], \"south-east\": [self.south, self.west+self.width_WE]}\n",
    "    def area(self):\n",
    "        return self.width_NS*self.width_WE\n",
    "\n",
    "    def volume(self):\n",
    "        return self.width_NS*self.width_WE*self.height\n",
    "\n",
    "    def __repr__(self):\n",
    "        return \"Building({}, {}, {}, {}, {})\".format(self.south, self.west, self.width_WE, self.width_NS, self.height)\n",
    "\n",
    "if __name__ == '__main__':\n",
    "    #These \"asserts\" using only for self-checking and not necessary for auto-testing\n",
    "    def json_dict(d):\n",
    "        return dict((k, list(v)) for k, v in d.items())\n",
    "    b = Building(1, 2, 2, 3)\n",
    "    print ('Corners - ', json_dict(b.corners()))  #\"Corners\"\n",
    "    print b.area() #\"Area\"\n",
    "    print b.volume() #\"Volume\"\n",
    "    str(b) #\"String\"\n"
   ]
  },
  {
   "cell_type": "markdown",
   "metadata": {},
   "source": [
    "Сингулярность всё-таки наступила, и мы обязаны построить идеальный робо-город для наших повелителей. В этом сияющем робополисе все здания будут прямоугольными, а все улицы идти в направлениях \"север-юг\" и \"восток-запад\", образуя восхитительную решётку. Прежде чем начать строительство, мы должны создать класс, представляющий совершенное здание.\n",
    "\n",
    "Так как все здания в городе прямоугольные, и их стены параллельны улицам, мы можем определить любое здание, используя только пару координат юго-западного угла, длину стен, идущих с запада на восток, длину стен, идущих с севера на юг, а также высоту здания. Эти значения выражены как положительные числа в обычных единицах измерения. Начало координат расположено в юго-западном углу города, следовательно, северные стороны зданий имеют значения координат больше, чем южные. Для решения этой задачи нам потребуется разработать несколько методов. Описание класса смотрите далее.\n",
    "\n",
    "class Building(south, west, width_WE, width_NS, height=10)\n",
    "\n",
    "Возвращает новый экземпляр класса Building (класса здания) с юго-западным углом расположенным в точке с координатами [south, west], длиной стен, идущих по направлению \"восток-запад\" - width_WE, длиной стен, идущих по направлению \"север-юг\" - width_NS, и высотой height. Параметр height является положительным числом со значением по умолчанию равным 10.\n",
    "\n",
    ">>> Building(10, 10, 1, 2, 2)\n",
    "Building(10, 10, 1, 2, 2)\n",
    ">>> Building(0, 0, 10.5, 2.546)\n",
    "Building(0, 0, 10.5, 2.546, 10)\n",
    "\n",
    "corners()\n",
    "\n",
    "Возвращает словарь (dictionary) с координатами углов здания. Словарь имеет следующие ключи: \"north-west\", \"north-east\", \"south-west\", \"south-east\". Значениями являются списки (list) или кортежи (tuples) с двумя числовыми значениями.\n",
    "\n",
    ">>> Building(1, 2, 2, 2).corners()\n",
    "{\"north-west\": [3, 2], \"north-east\": [3, 4], \"south-west\": [1, 2], \"south-east\": [1, 4]}\n",
    "\n",
    "area()\n",
    "\n",
    "Возвращает площадь основания здания.\n",
    "\n",
    ">>> Building(1, 2.5, 4.2, 1.25).area()\n",
    "5.25\n",
    "\n",
    "volume()\n",
    "\n",
    "Возвращает объем здания.\n",
    "\n",
    ">>> Building(1, 2.5, 4.2, 1.25, 101).volume()\n",
    "530.25\n",
    "\n",
    "__repr__()\n",
    "\n",
    "Это представление объекта Building в виде текстовой строки. Метод используется в функциях print или str (преобразование в строку). Возвращает строку следующего вида:\n",
    "\"Building({south}, {west}, {width_we}, {width_ns}, {height})\"\n",
    ">>> str(Building(0, 0, 10.5, 2.546))\n",
    "\"Building(0, 0, 10.5, 2.546, 10)\"\n",
    "\n",
    "В этом задании все входные данные коректны, и проверку значений можно не выполнять.\n",
    "\n",
    "Входные данные: операторы и выражения, использующие класс Building.\n",
    "\n",
    "Выходные данные: поведение экземпляра как описано выше."
   ]
  },
  {
   "cell_type": "code",
   "execution_count": 18,
   "metadata": {
    "collapsed": false
   },
   "outputs": [
    {
     "name": "stdout",
     "output_type": "stream",
     "text": [
      "True Corners\n"
     ]
    }
   ],
   "source": [
    "class Building:\n",
    "    \n",
    "    def __init__(self, south, west, width_WE, width_NS, height=10):\n",
    "        self.south = south\n",
    "        self.west = west\n",
    "        self.width_WE = width_WE\n",
    "        self.width_NS = width_NS\n",
    "        self.height = height\n",
    "\n",
    "    def corners(self): \n",
    "        return {\"north-west\": [self.south+self.width_NS, self.west], \"north-east\": [self.south+self.width_NS, self.west+self.width_WE], \"south-west\": [self.south, self.west], \"south-east\": [self.south, self.west+self.width_WE]}\n",
    "    def area(self):\n",
    "        return self.width_NS*self.width_WE\n",
    "\n",
    "    def volume(self):\n",
    "        return self.width_NS*self.width_WE*self.height\n",
    "\n",
    "    def __repr__(self):\n",
    "        return \"Building({}, {}, {}, {}, {})\".format(self.south, self.west, self.width_WE, self.width_NS, self.height)\n",
    "\n",
    "if __name__ == '__main__':\n",
    "    #These \"asserts\" using only for self-checking and not necessary for auto-testing\n",
    "    def json_dict(d):\n",
    "        return dict((k, list(v)) for k, v in d.items())\n",
    "\n",
    "    b = Building(1, 2, 2, 3)\n",
    "    b2 = Building(1, 2, 2, 3, 5)\n",
    "    print json_dict(b.corners()) == {'north-east': [4, 4], 'south-east': [1, 4],\n",
    "                                      'south-west': [1, 2], 'north-west': [4, 2]}, \"Corners\"\n",
    "    print b.area() == 6, \"Area\"\n",
    "    print b.volume() == 60, \"Volume\"\n",
    "    print b2.volume() == 30, \"Volume2\"\n",
    "    print str(b) == \"Building(1, 2, 2, 3, 10)\", \"String\"\n"
   ]
  },
  {
   "cell_type": "code",
   "execution_count": 29,
   "metadata": {
    "collapsed": false
   },
   "outputs": [],
   "source": [
    "text = open ('dataset_3363_2 (1).txt').readline().strip()\n",
    "import re\n",
    "digits = re.findall('[0-9]+', text)\n",
    "ch = re.findall('[^0-9]', text)\n",
    "list = map(lambda x, y: x*int(y), ch,digits)\n",
    "with open('dataset_out.txt', 'w') as text_out:\n",
    "    for i in list:\n",
    "        text_out.write(i)"
   ]
  },
  {
   "cell_type": "code",
   "execution_count": 85,
   "metadata": {
    "collapsed": false
   },
   "outputs": [],
   "source": [
    "l = ''\n",
    "with open('dataset_3363_3.txt') as text:\n",
    "    for i in text.readlines():\n",
    "        l += i.strip().lower()\n",
    "with open('dataset_out.txt', 'w') as f:\n",
    "    for i in Counter(l.split(' ')).most_common(1)[0]:\n",
    "        f.write(str(i))\n",
    "        f.write(' ')"
   ]
  },
  {
   "cell_type": "code",
   "execution_count": 132,
   "metadata": {
    "collapsed": false
   },
   "outputs": [],
   "source": [
    "math = 0.\n",
    "phy = 0.\n",
    "rus = 0.\n",
    "import re\n",
    "text = open ('dataset_3363_4.txt').readlines()\n",
    "list = re.findall('[0-9]+', str(text))\n",
    "with open('dataset_out.txt', 'w') as out:\n",
    "    for i in range(0, len(list), 3):\n",
    "        math += float(list[i])\n",
    "        phy += float(list[i+1])\n",
    "        rus += float(list[i+2])\n",
    "        out.write(str(round((int(list[i])+int(list[i+1])+int(list[i+2]))/3., 9))+'\\n')\n",
    "    out.write(str(round(3*math/len(list), 9)) + ' ' + str(round(3*phy/len(list),9)) + ' ' + str(round(3*rus/len(list), 9)))\n",
    "\n",
    "        \n",
    "\n",
    "\n"
   ]
  },
  {
   "cell_type": "code",
   "execution_count": 131,
   "metadata": {
    "collapsed": false
   },
   "outputs": [
    {
     "data": {
      "text/plain": [
       "['73',\n",
       " '57',\n",
       " '61',\n",
       " '69',\n",
       " '82',\n",
       " '48',\n",
       " '46',\n",
       " '25',\n",
       " '92',\n",
       " '61',\n",
       " '98',\n",
       " '32',\n",
       " '86',\n",
       " '26',\n",
       " '28',\n",
       " '71',\n",
       " '76',\n",
       " '53',\n",
       " '63',\n",
       " '90',\n",
       " '82',\n",
       " '97',\n",
       " '57',\n",
       " '64',\n",
       " '47',\n",
       " '24',\n",
       " '60',\n",
       " '73',\n",
       " '99',\n",
       " '54',\n",
       " '99',\n",
       " '38',\n",
       " '57',\n",
       " '41',\n",
       " '25',\n",
       " '70',\n",
       " '93',\n",
       " '70',\n",
       " '39',\n",
       " '98',\n",
       " '80',\n",
       " '27',\n",
       " '87',\n",
       " '54',\n",
       " '63',\n",
       " '50',\n",
       " '78',\n",
       " '27',\n",
       " '89',\n",
       " '93',\n",
       " '36',\n",
       " '27',\n",
       " '86',\n",
       " '34',\n",
       " '58',\n",
       " '49',\n",
       " '80',\n",
       " '38',\n",
       " '61',\n",
       " '60',\n",
       " '34',\n",
       " '31',\n",
       " '89',\n",
       " '79',\n",
       " '61',\n",
       " '95',\n",
       " '92',\n",
       " '93',\n",
       " '65',\n",
       " '92',\n",
       " '30',\n",
       " '57',\n",
       " '67',\n",
       " '93',\n",
       " '70',\n",
       " '62',\n",
       " '72',\n",
       " '61',\n",
       " '40',\n",
       " '70',\n",
       " '99',\n",
       " '66',\n",
       " '49',\n",
       " '51',\n",
       " '88',\n",
       " '56',\n",
       " '50',\n",
       " '91',\n",
       " '99',\n",
       " '41',\n",
       " '68',\n",
       " '32',\n",
       " '99',\n",
       " '95',\n",
       " '76',\n",
       " '41',\n",
       " '62',\n",
       " '30',\n",
       " '30',\n",
       " '75',\n",
       " '36',\n",
       " '61',\n",
       " '30',\n",
       " '57',\n",
       " '29',\n",
       " '52',\n",
       " '55',\n",
       " '98',\n",
       " '43',\n",
       " '43',\n",
       " '25',\n",
       " '70',\n",
       " '29',\n",
       " '77',\n",
       " '34',\n",
       " '70',\n",
       " '36',\n",
       " '63',\n",
       " '63',\n",
       " '31',\n",
       " '92',\n",
       " '55',\n",
       " '58',\n",
       " '58',\n",
       " '50',\n",
       " '97',\n",
       " '40',\n",
       " '88',\n",
       " '24',\n",
       " '29',\n",
       " '64',\n",
       " '37',\n",
       " '86',\n",
       " '26',\n",
       " '48',\n",
       " '72',\n",
       " '42',\n",
       " '24',\n",
       " '52',\n",
       " '46',\n",
       " '47',\n",
       " '85',\n",
       " '75',\n",
       " '43',\n",
       " '53',\n",
       " '34',\n",
       " '70',\n",
       " '43',\n",
       " '49',\n",
       " '26',\n",
       " '55',\n",
       " '32',\n",
       " '71',\n",
       " '78',\n",
       " '76',\n",
       " '55',\n",
       " '89',\n",
       " '55',\n",
       " '71',\n",
       " '87',\n",
       " '26',\n",
       " '81',\n",
       " '70',\n",
       " '40',\n",
       " '43',\n",
       " '83',\n",
       " '55',\n",
       " '30',\n",
       " '77',\n",
       " '51',\n",
       " '85',\n",
       " '72',\n",
       " '29',\n",
       " '79',\n",
       " '91',\n",
       " '81',\n",
       " '40',\n",
       " '29',\n",
       " '69',\n",
       " '71',\n",
       " '36',\n",
       " '68',\n",
       " '61',\n",
       " '47',\n",
       " '89',\n",
       " '70',\n",
       " '70',\n",
       " '99',\n",
       " '63',\n",
       " '42',\n",
       " '53',\n",
       " '75',\n",
       " '77',\n",
       " '87',\n",
       " '38',\n",
       " '54',\n",
       " '47',\n",
       " '39',\n",
       " '60',\n",
       " '56',\n",
       " '45',\n",
       " '73',\n",
       " '99',\n",
       " '34',\n",
       " '64',\n",
       " '84',\n",
       " '37',\n",
       " '58',\n",
       " '47',\n",
       " '64',\n",
       " '56',\n",
       " '50',\n",
       " '63',\n",
       " '71',\n",
       " '89',\n",
       " '25',\n",
       " '63',\n",
       " '26',\n",
       " '80',\n",
       " '62',\n",
       " '87',\n",
       " '92',\n",
       " '76',\n",
       " '87',\n",
       " '41',\n",
       " '84',\n",
       " '38',\n",
       " '81',\n",
       " '24',\n",
       " '32',\n",
       " '32',\n",
       " '65',\n",
       " '54',\n",
       " '78',\n",
       " '56',\n",
       " '27',\n",
       " '54',\n",
       " '34',\n",
       " '75',\n",
       " '66',\n",
       " '72',\n",
       " '37',\n",
       " '82',\n",
       " '79',\n",
       " '79',\n",
       " '52',\n",
       " '36',\n",
       " '80',\n",
       " '76',\n",
       " '72',\n",
       " '27',\n",
       " '70',\n",
       " '66',\n",
       " '29',\n",
       " '85',\n",
       " '83',\n",
       " '44',\n",
       " '72',\n",
       " '93',\n",
       " '45',\n",
       " '36',\n",
       " '53',\n",
       " '65',\n",
       " '100',\n",
       " '31',\n",
       " '98',\n",
       " '99',\n",
       " '73',\n",
       " '81',\n",
       " '98',\n",
       " '91',\n",
       " '85',\n",
       " '100',\n",
       " '62',\n",
       " '57',\n",
       " '83',\n",
       " '24',\n",
       " '35',\n",
       " '82',\n",
       " '81',\n",
       " '58',\n",
       " '40',\n",
       " '74',\n",
       " '75',\n",
       " '91',\n",
       " '44',\n",
       " '40',\n",
       " '71',\n",
       " '27',\n",
       " '55',\n",
       " '72',\n",
       " '62',\n",
       " '94',\n",
       " '72',\n",
       " '77',\n",
       " '47',\n",
       " '87',\n",
       " '96',\n",
       " '80',\n",
       " '37',\n",
       " '51',\n",
       " '75',\n",
       " '80',\n",
       " '88',\n",
       " '85',\n",
       " '78',\n",
       " '78',\n",
       " '24',\n",
       " '39',\n",
       " '44',\n",
       " '78',\n",
       " '27',\n",
       " '97',\n",
       " '46',\n",
       " '94',\n",
       " '86',\n",
       " '98',\n",
       " '62',\n",
       " '67',\n",
       " '54',\n",
       " '87',\n",
       " '29',\n",
       " '90',\n",
       " '62',\n",
       " '31',\n",
       " '36',\n",
       " '54',\n",
       " '28',\n",
       " '70',\n",
       " '96',\n",
       " '81',\n",
       " '85',\n",
       " '71',\n",
       " '64',\n",
       " '65',\n",
       " '38',\n",
       " '46',\n",
       " '54',\n",
       " '51',\n",
       " '67',\n",
       " '94',\n",
       " '81',\n",
       " '63',\n",
       " '76',\n",
       " '48']"
      ]
     },
     "execution_count": 131,
     "metadata": {},
     "output_type": "execute_result"
    }
   ],
   "source": [
    "list"
   ]
  },
  {
   "cell_type": "code",
   "execution_count": null,
   "metadata": {
    "collapsed": true
   },
   "outputs": [],
   "source": [
    "ch = re.findall('[^0-9]', text)\n",
    "list = map(lambda x, y: x*int(y), ch,digits)\n",
    "with open('dataset_out.txt', 'w') as text_out:\n",
    "    for i in list:\n",
    "        text_out.write(i)"
   ]
  },
  {
   "cell_type": "code",
   "execution_count": 168,
   "metadata": {
    "collapsed": false
   },
   "outputs": [
    {
     "name": "stdout",
     "output_type": "stream",
     "text": [
      "We are the champions, my friends,\n",
      "And we'll keep on fighting 'til the end.\n",
      "We are the champions.\n",
      "We are the champions.\n",
      "No time for losers\n",
      "'Cause we are the champions of the world.\n"
     ]
    }
   ],
   "source": [
    "import requests\n",
    "r = requests.get('https://stepic.org/media/attachments/course67/3.6.3/699991.txt') \n",
    "while 'We' not in r.text:\n",
    "    url = r.text\n",
    "    r = requests.get('https://stepic.org/media/attachments/course67/3.6.3/' + url)\n",
    "print(r.text)\n",
    "    "
   ]
  },
  {
   "cell_type": "code",
   "execution_count": 167,
   "metadata": {
    "collapsed": false
   },
   "outputs": [
    {
     "data": {
      "text/plain": [
       "u'972817.txt'"
      ]
     },
     "execution_count": 167,
     "metadata": {},
     "output_type": "execute_result"
    }
   ],
   "source": [
    "r.text"
   ]
  },
  {
   "cell_type": "markdown",
   "metadata": {},
   "source": [
    "Напишите программу, которая принимает на стандартный вход список игр футбольных команд с результатом матча и выводит на стандартный вывод сводную таблицу результатов всех матчей.\n",
    "\n",
    "За победу команде начисляется 3 очка, за поражение — 0, за ничью — 1.\n",
    "\n",
    "Формат ввода следующий:\n",
    "В первой строке указано целое число n — количество завершенных игр.\n",
    "После этого идет n строк, в которых записаны результаты игры в следующем формате:\n",
    "Первая_команда;Забито_первой_командой;Вторая_команда;Забито_второй_командой\n",
    "\n",
    "Вывод программы необходимо оформить следующим образом:\n",
    "Команда:Всего_игр Побед Ничьих Поражений Всего_очков"
   ]
  },
  {
   "cell_type": "code",
   "execution_count": 54,
   "metadata": {
    "collapsed": false
   },
   "outputs": [
    {
     "name": "stdout",
     "output_type": "stream",
     "text": [
      "vvedi3\n",
      "Zenit;3;Spartak;1\n",
      "Spartak;1;Cska;1\n",
      "Cska;0;Zenit;2\n"
     ]
    }
   ],
   "source": [
    "l = [[i for i in raw_input().split(';')] for j in range(int(raw_input('vvedi')))]\n",
    "d = {}\n",
    "for i in range(len(l)):\n",
    "    if l[i][0] not in d:\n",
    "        d[l[i][0]] = [0, 0, 0, 0, 0]\n",
    "    if l[i][2] not in d:\n",
    "        d[l[i][2]] = [0, 0, 0, 0, 0]        \n",
    "    if l[i][1] > l[i][3]:\n",
    "        d[l[i][0]][0] += 1\n",
    "        d[l[i][2]][0] += 1\n",
    "        d[l[i][0]][1] += 1\n",
    "        d[l[i][2]][3] += 1\n",
    "        d[l[i][0]][4] += 3\n",
    "    elif l[i][1] < l[i][3]:\n",
    "        d[l[i][0]][0] += 1\n",
    "        d[l[i][2]][0] += 1\n",
    "        d[l[i][2]][1] += 1\n",
    "        d[l[i][0]][3] += 1\n",
    "        d[l[i][2]][4] += 3\n",
    "    else:\n",
    "        d[l[i][0]][0] += 1\n",
    "        d[l[i][2]][0] += 1\n",
    "        d[l[i][0]][2] += 1\n",
    "        d[l[i][2]][2] += 1\n",
    "        d[l[i][0]][4] += 1\n",
    "        d[l[i][2]][4] += 1  \n",
    "for i,j in d.items():\n",
    "    print ('{0}: {1} {2} {3} {4} {5}'.format(i, j[0], j[1], j[2], j[3], j[4]))"
   ]
  },
  {
   "cell_type": "markdown",
   "metadata": {},
   "source": [
    "'abcd'\n",
    "'*d%#'\n",
    "'abacabadaba'\n",
    "'#*%*d*%'\n",
    "Sample Output 1:\n",
    "*d*%*d*#*d*\n",
    "dacabac"
   ]
  },
  {
   "cell_type": "code",
   "execution_count": 91,
   "metadata": {
    "collapsed": false
   },
   "outputs": [
    {
     "name": "stdout",
     "output_type": "stream",
     "text": [
      "sdcs23\n"
     ]
    },
    {
     "ename": "NameError",
     "evalue": "name 'sdcs23' is not defined",
     "output_type": "error",
     "traceback": [
      "\u001b[1;31m---------------------------------------------------------------------------\u001b[0m",
      "\u001b[1;31mNameError\u001b[0m                                 Traceback (most recent call last)",
      "\u001b[1;32m<ipython-input-91-57fd179d1919>\u001b[0m in \u001b[0;36m<module>\u001b[1;34m()\u001b[0m\n\u001b[1;32m----> 1\u001b[1;33m \u001b[0min1\u001b[0m\u001b[1;33m,\u001b[0m \u001b[0min2\u001b[0m\u001b[1;33m,\u001b[0m \u001b[0mout1\u001b[0m\u001b[1;33m,\u001b[0m \u001b[0mout2\u001b[0m \u001b[1;33m=\u001b[0m \u001b[0minput\u001b[0m\u001b[1;33m(\u001b[0m\u001b[1;33m)\u001b[0m\u001b[1;33m,\u001b[0m \u001b[0minput\u001b[0m\u001b[1;33m(\u001b[0m\u001b[1;33m)\u001b[0m\u001b[1;33m,\u001b[0m \u001b[0minput\u001b[0m\u001b[1;33m(\u001b[0m\u001b[1;33m)\u001b[0m\u001b[1;33m,\u001b[0m \u001b[0minput\u001b[0m\u001b[1;33m(\u001b[0m\u001b[1;33m)\u001b[0m\u001b[1;33m\u001b[0m\u001b[0m\n\u001b[0m\u001b[0;32m      2\u001b[0m \u001b[1;32mprint\u001b[0m \u001b[1;33m[\u001b[0m\u001b[0min2\u001b[0m\u001b[1;33m[\u001b[0m\u001b[0min1\u001b[0m\u001b[1;33m.\u001b[0m\u001b[0mindex\u001b[0m\u001b[1;33m(\u001b[0m\u001b[0mi\u001b[0m\u001b[1;33m)\u001b[0m\u001b[1;33m]\u001b[0m \u001b[1;32mfor\u001b[0m \u001b[0mi\u001b[0m \u001b[1;32min\u001b[0m \u001b[0mout2\u001b[0m\u001b[1;33m]\u001b[0m\u001b[1;33m\u001b[0m\u001b[0m\n",
      "\u001b[1;32m/home/daniil/anaconda2/lib/python2.7/site-packages/ipykernel/ipkernel.pyc\u001b[0m in \u001b[0;36m<lambda>\u001b[1;34m(prompt)\u001b[0m\n\u001b[0;32m    163\u001b[0m             \u001b[0mself\u001b[0m\u001b[1;33m.\u001b[0m\u001b[0m_sys_eval_input\u001b[0m \u001b[1;33m=\u001b[0m \u001b[0mbuiltin_mod\u001b[0m\u001b[1;33m.\u001b[0m\u001b[0minput\u001b[0m\u001b[1;33m\u001b[0m\u001b[0m\n\u001b[0;32m    164\u001b[0m             \u001b[0mbuiltin_mod\u001b[0m\u001b[1;33m.\u001b[0m\u001b[0mraw_input\u001b[0m \u001b[1;33m=\u001b[0m \u001b[0mself\u001b[0m\u001b[1;33m.\u001b[0m\u001b[0mraw_input\u001b[0m\u001b[1;33m\u001b[0m\u001b[0m\n\u001b[1;32m--> 165\u001b[1;33m             \u001b[0mbuiltin_mod\u001b[0m\u001b[1;33m.\u001b[0m\u001b[0minput\u001b[0m \u001b[1;33m=\u001b[0m \u001b[1;32mlambda\u001b[0m \u001b[0mprompt\u001b[0m\u001b[1;33m=\u001b[0m\u001b[1;34m''\u001b[0m\u001b[1;33m:\u001b[0m \u001b[0meval\u001b[0m\u001b[1;33m(\u001b[0m\u001b[0mself\u001b[0m\u001b[1;33m.\u001b[0m\u001b[0mraw_input\u001b[0m\u001b[1;33m(\u001b[0m\u001b[0mprompt\u001b[0m\u001b[1;33m)\u001b[0m\u001b[1;33m)\u001b[0m\u001b[1;33m\u001b[0m\u001b[0m\n\u001b[0m\u001b[0;32m    166\u001b[0m         \u001b[0mself\u001b[0m\u001b[1;33m.\u001b[0m\u001b[0m_save_getpass\u001b[0m \u001b[1;33m=\u001b[0m \u001b[0mgetpass\u001b[0m\u001b[1;33m.\u001b[0m\u001b[0mgetpass\u001b[0m\u001b[1;33m\u001b[0m\u001b[0m\n\u001b[0;32m    167\u001b[0m         \u001b[0mgetpass\u001b[0m\u001b[1;33m.\u001b[0m\u001b[0mgetpass\u001b[0m \u001b[1;33m=\u001b[0m \u001b[0mself\u001b[0m\u001b[1;33m.\u001b[0m\u001b[0mgetpass\u001b[0m\u001b[1;33m\u001b[0m\u001b[0m\n",
      "\u001b[1;32m/home/daniil/anaconda2/lib/python2.7/site-packages/ipykernel/ipkernel.pyc\u001b[0m in \u001b[0;36m<module>\u001b[1;34m()\u001b[0m\n",
      "\u001b[1;31mNameError\u001b[0m: name 'sdcs23' is not defined"
     ]
    }
   ],
   "source": [
    "in1, in2, out1, out2 = input(), input(), input(), input()\n",
    "print ([in2[in1.index(i)] for i in out1], end='')"
   ]
  },
  {
   "cell_type": "markdown",
   "metadata": {},
   "source": [
    "Sample Input:\n",
    "3\n",
    "'a'\n",
    "'bb'\n",
    "'cCc'\n",
    "2\n",
    "'a bb aab aba ccc'\n",
    "'c bb aaa'\n",
    "Sample Output:\n",
    "aab\n",
    "aba\n",
    "c\n",
    "aaa\n"
   ]
  },
  {
   "cell_type": "code",
   "execution_count": 151,
   "metadata": {
    "collapsed": false
   },
   "outputs": [
    {
     "name": "stdout",
     "output_type": "stream",
     "text": [
      "3\n",
      "'a'\n",
      "'bb'\n",
      "'cCc'\n",
      "2\n",
      "'a bb aab aba ccc'\n",
      "'c bb aaa'\n"
     ]
    }
   ],
   "source": [
    "d = int(input())\n",
    "d_set=set()\n",
    "list = set()\n",
    "while d > 0:\n",
    "    d_set.add(input().lower())\n",
    "    d -=1\n",
    "l = [[i.lower() for i in input().split(' ')] for j in range(int(input()))]\n",
    "for i in range(len(l)):\n",
    "    for j in range(len(l[i])):\n",
    "        list.add(l[i][j])\n",
    "print '\\n'.join([i for i in (list - d_set)])\n",
    "\n",
    "\n"
   ]
  },
  {
   "cell_type": "code",
   "execution_count": 158,
   "metadata": {
    "collapsed": false
   },
   "outputs": [
    {
     "name": "stdout",
     "output_type": "stream",
     "text": [
      "aba\n",
      "c\n",
      "aaa\n",
      "aab\n"
     ]
    }
   ],
   "source": [
    "print '\\n'.join([i for i in (list - d_set)])\n",
    "        "
   ]
  },
  {
   "cell_type": "code",
   "execution_count": 148,
   "metadata": {
    "collapsed": false
   },
   "outputs": [
    {
     "name": "stdout",
     "output_type": "stream",
     "text": [
      "3\n",
      "\n"
     ]
    },
    {
     "ename": "SyntaxError",
     "evalue": "unexpected EOF while parsing (<string>, line 0)",
     "output_type": "error",
     "traceback": [
      "\u001b[1;36m  File \u001b[1;32m\"<string>\"\u001b[1;36m, line \u001b[1;32munknown\u001b[0m\n\u001b[1;33m    \u001b[0m\n\u001b[1;37m    ^\u001b[0m\n\u001b[1;31mSyntaxError\u001b[0m\u001b[1;31m:\u001b[0m unexpected EOF while parsing\n"
     ]
    }
   ],
   "source": [
    "d = int(input())\n",
    "d_set=set()\n",
    "while d > 0:\n",
    "    d_set.add(input().lower())\n",
    "    d -=1"
   ]
  },
  {
   "cell_type": "code",
   "execution_count": 25,
   "metadata": {
    "collapsed": false
   },
   "outputs": [
    {
     "name": "stdout",
     "output_type": "stream",
     "text": [
      "4\n",
      "'north 10'\n",
      "'west 20'\n",
      "'south 30'\n",
      "'east 40'\n",
      "20\n",
      "-20\n"
     ]
    }
   ],
   "source": [
    "# -*- coding: Windows-1251 -*-\n",
    "crdn = [0, 0]\n",
    "n = int(input())\n",
    "while n > 0:\n",
    "    a = input().split()\n",
    "    if a[0] == 'north':\n",
    "        crdn[1]+= int(a[1])\n",
    "    elif a[0] == 'south':\n",
    "        crdn[1]-= int(a[1])\n",
    "    elif a[0] == 'west':\n",
    "        crdn[0]-= int(a[1])\n",
    "    else: crdn[0] += int(a[1])\n",
    "    n -= 1\n",
    "for i in crdn:\n",
    "    print(i)"
   ]
  },
  {
   "cell_type": "markdown",
   "metadata": {
    "collapsed": false
   },
   "source": [
    "Напишите программу, которая прочитает этот файл и подсчитает для каждого класса средний рост учащегося.\n",
    "\n",
    "Файл состоит из набора строк, каждая из которых представляет собой три поля:\n",
    "Класс Фамилия Рост"
   ]
  },
  {
   "cell_type": "code",
   "execution_count": 24,
   "metadata": {
    "collapsed": false
   },
   "outputs": [],
   "source": [
    "d = {}\n",
    "with open ('dataset_3380_5.txt') as text:\n",
    "    for i in text.readlines():\n",
    "        for j in range(1,12):\n",
    "            if str(j) in i.split():\n",
    "                if j in d:\n",
    "                    d[j][0] += int(i.split()[2])\n",
    "                else: d[j] = [int(i.split()[2])]          \n",
    "            "
   ]
  },
  {
   "cell_type": "code",
   "execution_count": 21,
   "metadata": {
    "collapsed": false
   },
   "outputs": [
    {
     "ename": "TypeError",
     "evalue": "cannot concatenate 'str' and 'int' objects",
     "output_type": "error",
     "traceback": [
      "\u001b[1;31m---------------------------------------------------------------------------\u001b[0m",
      "\u001b[1;31mTypeError\u001b[0m                                 Traceback (most recent call last)",
      "\u001b[1;32m<ipython-input-21-3a38a899a546>\u001b[0m in \u001b[0;36m<module>\u001b[1;34m()\u001b[0m\n\u001b[0;32m      1\u001b[0m \u001b[0ma\u001b[0m \u001b[1;33m=\u001b[0m \u001b[1;33m{\u001b[0m\u001b[1;33m}\u001b[0m\u001b[1;33m\u001b[0m\u001b[0m\n\u001b[0;32m      2\u001b[0m \u001b[0ma\u001b[0m \u001b[1;33m[\u001b[0m\u001b[1;36m2\u001b[0m\u001b[1;33m]\u001b[0m \u001b[1;33m=\u001b[0m \u001b[1;33m[\u001b[0m\u001b[1;34m'-'\u001b[0m\u001b[1;33m]\u001b[0m\u001b[1;33m\u001b[0m\u001b[0m\n\u001b[1;32m----> 3\u001b[1;33m \u001b[0ma\u001b[0m \u001b[1;33m[\u001b[0m\u001b[1;36m2\u001b[0m\u001b[1;33m]\u001b[0m\u001b[1;33m[\u001b[0m\u001b[1;36m0\u001b[0m\u001b[1;33m]\u001b[0m\u001b[1;33m+\u001b[0m\u001b[1;36m5\u001b[0m\u001b[1;33m\u001b[0m\u001b[0m\n\u001b[0m",
      "\u001b[1;31mTypeError\u001b[0m: cannot concatenate 'str' and 'int' objects"
     ]
    }
   ],
   "source": [
    "a = {}\n",
    "a [2] = ['-']\n",
    "a [2][0]+5"
   ]
  },
  {
   "cell_type": "code",
   "execution_count": 25,
   "metadata": {
    "collapsed": false
   },
   "outputs": [
    {
     "data": {
      "text/plain": [
       "{1: [871],\n",
       " 2: [655],\n",
       " 3: [1226],\n",
       " 4: [987],\n",
       " 5: [852],\n",
       " 6: [460],\n",
       " 7: [1108],\n",
       " 8: [1149],\n",
       " 9: [1190],\n",
       " 10: [1513],\n",
       " 11: [877]}"
      ]
     },
     "execution_count": 25,
     "metadata": {},
     "output_type": "execute_result"
    }
   ],
   "source": [
    "d"
   ]
  }
 ],
 "metadata": {
  "kernelspec": {
   "display_name": "Python 2",
   "language": "python",
   "name": "python2"
  },
  "language_info": {
   "codemirror_mode": {
    "name": "ipython",
    "version": 2
   },
   "file_extension": ".py",
   "mimetype": "text/x-python",
   "name": "python",
   "nbconvert_exporter": "python",
   "pygments_lexer": "ipython2",
   "version": "2.7.12"
  }
 },
 "nbformat": 4,
 "nbformat_minor": 0
}
